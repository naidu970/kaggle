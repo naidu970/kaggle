{
 "cells": [
  {
   "cell_type": "code",
   "execution_count": 1,
   "id": "83ff44ba",
   "metadata": {
    "_cell_guid": "b1076dfc-b9ad-4769-8c92-a6c4dae69d19",
    "_uuid": "8f2839f25d086af736a60e9eeb907d3b93b6e0e5",
    "execution": {
     "iopub.execute_input": "2022-12-13T08:32:54.639388Z",
     "iopub.status.busy": "2022-12-13T08:32:54.638977Z",
     "iopub.status.idle": "2022-12-13T08:32:54.651676Z",
     "shell.execute_reply": "2022-12-13T08:32:54.650783Z"
    },
    "papermill": {
     "duration": 0.021045,
     "end_time": "2022-12-13T08:32:54.654580",
     "exception": false,
     "start_time": "2022-12-13T08:32:54.633535",
     "status": "completed"
    },
    "tags": []
   },
   "outputs": [
    {
     "name": "stdout",
     "output_type": "stream",
     "text": [
      "/kaggle/input/digit-recognizer/sample_submission.csv\n",
      "/kaggle/input/digit-recognizer/train.csv\n",
      "/kaggle/input/digit-recognizer/test.csv\n"
     ]
    }
   ],
   "source": [
    "# This Python 3 environment comes with many helpful analytics libraries installed\n",
    "# It is defined by the kaggle/python Docker image: https://github.com/kaggle/docker-python\n",
    "# For example, here's several helpful packages to load\n",
    "\n",
    "import numpy as np # linear algebra\n",
    "import pandas as pd # data processing, CSV file I/O (e.g. pd.read_csv)\n",
    "\n",
    "# Input data files are available in the read-only \"../input/\" directory\n",
    "# For example, running this (by clicking run or pressing Shift+Enter) will list all files under the input directory\n",
    "\n",
    "import os\n",
    "for dirname, _, filenames in os.walk('/kaggle/input'):\n",
    "    for filename in filenames:\n",
    "        print(os.path.join(dirname, filename))\n",
    "\n",
    "# You can write up to 20GB to the current directory (/kaggle/working/) that gets preserved as output when you create a version using \"Save & Run All\" \n",
    "# You can also write temporary files to /kaggle/temp/, but they won't be saved outside of the current session"
   ]
  },
  {
   "cell_type": "code",
   "execution_count": 2,
   "id": "7ec6a4e9",
   "metadata": {
    "execution": {
     "iopub.execute_input": "2022-12-13T08:32:54.663310Z",
     "iopub.status.busy": "2022-12-13T08:32:54.662711Z",
     "iopub.status.idle": "2022-12-13T08:32:59.532488Z",
     "shell.execute_reply": "2022-12-13T08:32:59.531517Z"
    },
    "papermill": {
     "duration": 4.876308,
     "end_time": "2022-12-13T08:32:59.534957",
     "exception": false,
     "start_time": "2022-12-13T08:32:54.658649",
     "status": "completed"
    },
    "tags": []
   },
   "outputs": [],
   "source": [
    "train = pd.read_csv('/kaggle/input/digit-recognizer/train.csv')\n",
    "test = pd.read_csv('/kaggle/input/digit-recognizer/test.csv')"
   ]
  },
  {
   "cell_type": "code",
   "execution_count": 3,
   "id": "fbfaf405",
   "metadata": {
    "execution": {
     "iopub.execute_input": "2022-12-13T08:32:59.543172Z",
     "iopub.status.busy": "2022-12-13T08:32:59.542875Z",
     "iopub.status.idle": "2022-12-13T08:32:59.548194Z",
     "shell.execute_reply": "2022-12-13T08:32:59.547188Z"
    },
    "papermill": {
     "duration": 0.013226,
     "end_time": "2022-12-13T08:32:59.551684",
     "exception": false,
     "start_time": "2022-12-13T08:32:59.538458",
     "status": "completed"
    },
    "tags": []
   },
   "outputs": [
    {
     "name": "stdout",
     "output_type": "stream",
     "text": [
      "(42000, 785) (28000, 784)\n"
     ]
    }
   ],
   "source": [
    "print(train.shape,test.shape)"
   ]
  },
  {
   "cell_type": "code",
   "execution_count": 4,
   "id": "8ec40f2e",
   "metadata": {
    "execution": {
     "iopub.execute_input": "2022-12-13T08:32:59.559166Z",
     "iopub.status.busy": "2022-12-13T08:32:59.558907Z",
     "iopub.status.idle": "2022-12-13T08:33:05.388927Z",
     "shell.execute_reply": "2022-12-13T08:33:05.387953Z"
    },
    "papermill": {
     "duration": 5.836424,
     "end_time": "2022-12-13T08:33:05.391391",
     "exception": false,
     "start_time": "2022-12-13T08:32:59.554967",
     "status": "completed"
    },
    "tags": []
   },
   "outputs": [],
   "source": [
    "#importing required packages\n",
    "import tensorflow as tf\n",
    "from tensorflow.keras.layers import Dense\n",
    "from tensorflow.keras import Sequential\n",
    "from tensorflow.keras.losses import CategoricalCrossentropy\n",
    "from tensorflow.keras.metrics import CategoricalAccuracy\n",
    "\n",
    "\n"
   ]
  },
  {
   "cell_type": "code",
   "execution_count": 5,
   "id": "c55bea6d",
   "metadata": {
    "execution": {
     "iopub.execute_input": "2022-12-13T08:33:05.400986Z",
     "iopub.status.busy": "2022-12-13T08:33:05.399298Z",
     "iopub.status.idle": "2022-12-13T08:33:10.636205Z",
     "shell.execute_reply": "2022-12-13T08:33:10.635021Z"
    },
    "papermill": {
     "duration": 5.24424,
     "end_time": "2022-12-13T08:33:10.639124",
     "exception": false,
     "start_time": "2022-12-13T08:33:05.394884",
     "status": "completed"
    },
    "tags": []
   },
   "outputs": [
    {
     "name": "stderr",
     "output_type": "stream",
     "text": [
      "2022-12-13 08:33:05.517666: I tensorflow/stream_executor/cuda/cuda_gpu_executor.cc:937] successful NUMA node read from SysFS had negative value (-1), but there must be at least one NUMA node, so returning NUMA node zero\n",
      "2022-12-13 08:33:05.518626: I tensorflow/stream_executor/cuda/cuda_gpu_executor.cc:937] successful NUMA node read from SysFS had negative value (-1), but there must be at least one NUMA node, so returning NUMA node zero\n",
      "2022-12-13 08:33:05.659485: I tensorflow/stream_executor/cuda/cuda_gpu_executor.cc:937] successful NUMA node read from SysFS had negative value (-1), but there must be at least one NUMA node, so returning NUMA node zero\n",
      "2022-12-13 08:33:05.660354: I tensorflow/stream_executor/cuda/cuda_gpu_executor.cc:937] successful NUMA node read from SysFS had negative value (-1), but there must be at least one NUMA node, so returning NUMA node zero\n",
      "2022-12-13 08:33:05.661163: I tensorflow/stream_executor/cuda/cuda_gpu_executor.cc:937] successful NUMA node read from SysFS had negative value (-1), but there must be at least one NUMA node, so returning NUMA node zero\n",
      "2022-12-13 08:33:05.661910: I tensorflow/stream_executor/cuda/cuda_gpu_executor.cc:937] successful NUMA node read from SysFS had negative value (-1), but there must be at least one NUMA node, so returning NUMA node zero\n",
      "2022-12-13 08:33:05.665061: I tensorflow/core/platform/cpu_feature_guard.cc:142] This TensorFlow binary is optimized with oneAPI Deep Neural Network Library (oneDNN) to use the following CPU instructions in performance-critical operations:  AVX2 AVX512F FMA\n",
      "To enable them in other operations, rebuild TensorFlow with the appropriate compiler flags.\n",
      "2022-12-13 08:33:05.914742: I tensorflow/stream_executor/cuda/cuda_gpu_executor.cc:937] successful NUMA node read from SysFS had negative value (-1), but there must be at least one NUMA node, so returning NUMA node zero\n",
      "2022-12-13 08:33:05.915803: I tensorflow/stream_executor/cuda/cuda_gpu_executor.cc:937] successful NUMA node read from SysFS had negative value (-1), but there must be at least one NUMA node, so returning NUMA node zero\n",
      "2022-12-13 08:33:05.918813: I tensorflow/stream_executor/cuda/cuda_gpu_executor.cc:937] successful NUMA node read from SysFS had negative value (-1), but there must be at least one NUMA node, so returning NUMA node zero\n",
      "2022-12-13 08:33:05.919982: I tensorflow/stream_executor/cuda/cuda_gpu_executor.cc:937] successful NUMA node read from SysFS had negative value (-1), but there must be at least one NUMA node, so returning NUMA node zero\n",
      "2022-12-13 08:33:05.921283: I tensorflow/stream_executor/cuda/cuda_gpu_executor.cc:937] successful NUMA node read from SysFS had negative value (-1), but there must be at least one NUMA node, so returning NUMA node zero\n",
      "2022-12-13 08:33:05.922754: I tensorflow/stream_executor/cuda/cuda_gpu_executor.cc:937] successful NUMA node read from SysFS had negative value (-1), but there must be at least one NUMA node, so returning NUMA node zero\n",
      "2022-12-13 08:33:09.034238: I tensorflow/stream_executor/cuda/cuda_gpu_executor.cc:937] successful NUMA node read from SysFS had negative value (-1), but there must be at least one NUMA node, so returning NUMA node zero\n",
      "2022-12-13 08:33:09.035209: I tensorflow/stream_executor/cuda/cuda_gpu_executor.cc:937] successful NUMA node read from SysFS had negative value (-1), but there must be at least one NUMA node, so returning NUMA node zero\n",
      "2022-12-13 08:33:09.035978: I tensorflow/stream_executor/cuda/cuda_gpu_executor.cc:937] successful NUMA node read from SysFS had negative value (-1), but there must be at least one NUMA node, so returning NUMA node zero\n",
      "2022-12-13 08:33:09.036740: I tensorflow/stream_executor/cuda/cuda_gpu_executor.cc:937] successful NUMA node read from SysFS had negative value (-1), but there must be at least one NUMA node, so returning NUMA node zero\n",
      "2022-12-13 08:33:09.037526: I tensorflow/stream_executor/cuda/cuda_gpu_executor.cc:937] successful NUMA node read from SysFS had negative value (-1), but there must be at least one NUMA node, so returning NUMA node zero\n",
      "2022-12-13 08:33:09.038274: I tensorflow/core/common_runtime/gpu/gpu_device.cc:1510] Created device /job:localhost/replica:0/task:0/device:GPU:0 with 13789 MB memory:  -> device: 0, name: Tesla T4, pci bus id: 0000:00:04.0, compute capability: 7.5\n",
      "2022-12-13 08:33:09.041581: I tensorflow/stream_executor/cuda/cuda_gpu_executor.cc:937] successful NUMA node read from SysFS had negative value (-1), but there must be at least one NUMA node, so returning NUMA node zero\n",
      "2022-12-13 08:33:09.042365: I tensorflow/core/common_runtime/gpu/gpu_device.cc:1510] Created device /job:localhost/replica:0/task:0/device:GPU:1 with 13789 MB memory:  -> device: 1, name: Tesla T4, pci bus id: 0000:00:05.0, compute capability: 7.5\n"
     ]
    }
   ],
   "source": [
    "train = tf.convert_to_tensor(train)\n",
    "test = tf.convert_to_tensor(test)\n",
    "train = tf.random.shuffle(train, seed=123, name=None)\n",
    "XY_train, XY_cv = tf.split(train, num_or_size_splits=[35000,7000], axis=0, num=None, name='split')\n"
   ]
  },
  {
   "cell_type": "code",
   "execution_count": 6,
   "id": "1c6ea187",
   "metadata": {
    "execution": {
     "iopub.execute_input": "2022-12-13T08:33:10.648414Z",
     "iopub.status.busy": "2022-12-13T08:33:10.648088Z",
     "iopub.status.idle": "2022-12-13T08:33:11.833228Z",
     "shell.execute_reply": "2022-12-13T08:33:11.832197Z"
    },
    "papermill": {
     "duration": 1.19271,
     "end_time": "2022-12-13T08:33:11.835659",
     "exception": false,
     "start_time": "2022-12-13T08:33:10.642949",
     "status": "completed"
    },
    "tags": []
   },
   "outputs": [],
   "source": [
    "\n",
    "\n",
    "rotate=tf.keras.layers.RandomRotation(0.05,seed=123)(tf.reshape(XY_train[:,1:],shape=(35000,28,28,1)))\n",
    "crop=tf.keras.layers.RandomCrop(22, 22, seed=123)(tf.reshape(XY_train[:,1:],shape=(35000,28,28,1)))\n",
    "crop=tf.image.resize_with_pad(crop,28,28)\n",
    "crop_rotate = tf.keras.layers.RandomCrop(22, 22, seed=123)(rotate)\n",
    "crop_rotate = tf.image.resize_with_pad(crop_rotate,28,28)\n",
    "resize = tf.keras.layers.Resizing(20,20)(tf.reshape(XY_train[:,1:],shape=(35000,28,28,1)))\n",
    "resize = tf.image.resize_with_pad(resize,28,28)\n"
   ]
  },
  {
   "cell_type": "code",
   "execution_count": 7,
   "id": "079f104e",
   "metadata": {
    "execution": {
     "iopub.execute_input": "2022-12-13T08:33:11.845507Z",
     "iopub.status.busy": "2022-12-13T08:33:11.843996Z",
     "iopub.status.idle": "2022-12-13T08:33:11.855374Z",
     "shell.execute_reply": "2022-12-13T08:33:11.854545Z"
    },
    "papermill": {
     "duration": 0.017993,
     "end_time": "2022-12-13T08:33:11.857388",
     "exception": false,
     "start_time": "2022-12-13T08:33:11.839395",
     "status": "completed"
    },
    "tags": []
   },
   "outputs": [],
   "source": [
    "y_train = tf.concat([XY_train[:,0],XY_train[:,0],XY_train[:,0],XY_train[:,0],XY_train[:,0]],axis=0)\n",
    "X_train = tf.concat([tf.reshape(XY_train[:,1:],shape=(35000,28,28,1)),tf.cast(crop,'int64'),tf.cast(rotate,'int64'),tf.cast(resize,'int64'),tf.cast(crop_rotate,'int64')],axis=0)"
   ]
  },
  {
   "cell_type": "code",
   "execution_count": 8,
   "id": "16799856",
   "metadata": {
    "execution": {
     "iopub.execute_input": "2022-12-13T08:33:11.866777Z",
     "iopub.status.busy": "2022-12-13T08:33:11.866496Z",
     "iopub.status.idle": "2022-12-13T08:33:13.891307Z",
     "shell.execute_reply": "2022-12-13T08:33:13.890314Z"
    },
    "papermill": {
     "duration": 2.031752,
     "end_time": "2022-12-13T08:33:13.894131",
     "exception": false,
     "start_time": "2022-12-13T08:33:11.862379",
     "status": "completed"
    },
    "tags": []
   },
   "outputs": [
    {
     "name": "stderr",
     "output_type": "stream",
     "text": [
      "2022-12-13 08:33:11.884485: W tensorflow/core/framework/cpu_allocator_impl.cc:80] Allocation of 1099000000 exceeds 10% of free system memory.\n",
      "2022-12-13 08:33:12.765598: W tensorflow/core/framework/cpu_allocator_impl.cc:80] Allocation of 1099000000 exceeds 10% of free system memory.\n"
     ]
    }
   ],
   "source": [
    "train = tf.concat([tf.reshape(X_train,shape=(175000,-1)),tf.reshape(y_train,shape=(175000,1))],axis=-1)\n",
    "train = tf.random.shuffle(train,seed=123)\n",
    "X_train, y_train =  tf.reshape(train[:,:-1],shape=(175000,28,28,1)), tf.reshape(train[:,-1],shape=(175000))"
   ]
  },
  {
   "cell_type": "code",
   "execution_count": 9,
   "id": "3438aaff",
   "metadata": {
    "execution": {
     "iopub.execute_input": "2022-12-13T08:33:13.902726Z",
     "iopub.status.busy": "2022-12-13T08:33:13.902381Z",
     "iopub.status.idle": "2022-12-13T08:33:13.919956Z",
     "shell.execute_reply": "2022-12-13T08:33:13.919114Z"
    },
    "papermill": {
     "duration": 0.024111,
     "end_time": "2022-12-13T08:33:13.922010",
     "exception": false,
     "start_time": "2022-12-13T08:33:13.897899",
     "status": "completed"
    },
    "tags": []
   },
   "outputs": [],
   "source": [
    "\n",
    "X_train, y_train = X_train,tf.one_hot(y_train,depth=10)\n",
    "X_cv, y_cv = tf.reshape(XY_cv[:,1:],shape=(-1,28,28,1)),tf.one_hot(XY_cv[:,0],depth=10)\n",
    "X_test = tf.reshape(test[:,:],shape=(-1,28,28,1))"
   ]
  },
  {
   "cell_type": "code",
   "execution_count": 10,
   "id": "546f2d44",
   "metadata": {
    "execution": {
     "iopub.execute_input": "2022-12-13T08:33:13.930152Z",
     "iopub.status.busy": "2022-12-13T08:33:13.929885Z",
     "iopub.status.idle": "2022-12-13T08:33:16.146344Z",
     "shell.execute_reply": "2022-12-13T08:33:16.145172Z"
    },
    "papermill": {
     "duration": 2.223832,
     "end_time": "2022-12-13T08:33:16.149362",
     "exception": false,
     "start_time": "2022-12-13T08:33:13.925530",
     "status": "completed"
    },
    "tags": []
   },
   "outputs": [
    {
     "name": "stderr",
     "output_type": "stream",
     "text": [
      "2022-12-13 08:33:13.932938: W tensorflow/core/framework/cpu_allocator_impl.cc:80] Allocation of 1097600000 exceeds 10% of free system memory.\n",
      "2022-12-13 08:33:14.815070: W tensorflow/core/framework/cpu_allocator_impl.cc:80] Allocation of 1433600000 exceeds 10% of free system memory.\n"
     ]
    }
   ],
   "source": [
    "pad_0 = tf.keras.layers.ZeroPadding2D(padding=((2,2),(2,2)))\n",
    "X_train = pad_0(X_train)\n",
    "X_cv = pad_0(X_cv)\n",
    "X_test = pad_0(X_test)\n",
    "\n"
   ]
  },
  {
   "cell_type": "code",
   "execution_count": 11,
   "id": "6d69e9e5",
   "metadata": {
    "execution": {
     "iopub.execute_input": "2022-12-13T08:33:16.159970Z",
     "iopub.status.busy": "2022-12-13T08:33:16.159112Z",
     "iopub.status.idle": "2022-12-13T08:33:16.169135Z",
     "shell.execute_reply": "2022-12-13T08:33:16.168192Z"
    },
    "papermill": {
     "duration": 0.017612,
     "end_time": "2022-12-13T08:33:16.171559",
     "exception": false,
     "start_time": "2022-12-13T08:33:16.153947",
     "status": "completed"
    },
    "tags": []
   },
   "outputs": [],
   "source": [
    "def resnet50():\n",
    "    base_model = tf.keras.applications.resnet50.ResNet50(include_top=False, weights='imagenet',input_shape=(32,32,3))\n",
    "    for layer in base_model.layers[:41]:\n",
    "        layer.trainable=False\n",
    "    \n",
    "    inputs = tf.keras.Input(shape=(32,32,1))\n",
    "    X = tf.keras.layers.Conv2D(filters=3,kernel_size=(1,1),strides=(1,1),padding='valid')(inputs)\n",
    "    X = tf.keras.applications.resnet50.preprocess_input(X)\n",
    "    X = base_model(X,training=False)\n",
    "    X = tf.keras.layers.GlobalAveragePooling2D()(X)\n",
    "    X = tf.keras.layers.Dropout(0.2)(X)\n",
    "    outputs = tf.keras.layers.Dense(units=10, activation='sigmoid')(X)\n",
    "    model = tf.keras.Model(inputs=inputs,outputs=outputs)\n",
    "    model.compile(loss=tf.keras.losses.CategoricalCrossentropy(), optimizer= tf.keras.optimizers.Adam(0.00001), metrics=['Accuracy'])\n",
    "    model.fit(X_train,y_train, epochs=25, batch_size=32)\n",
    "    return model\n",
    "\n"
   ]
  },
  {
   "cell_type": "code",
   "execution_count": 12,
   "id": "2d37ed4f",
   "metadata": {
    "execution": {
     "iopub.execute_input": "2022-12-13T08:33:16.181088Z",
     "iopub.status.busy": "2022-12-13T08:33:16.180786Z",
     "iopub.status.idle": "2022-12-13T10:08:19.402186Z",
     "shell.execute_reply": "2022-12-13T10:08:19.401083Z"
    },
    "papermill": {
     "duration": 5707.579051,
     "end_time": "2022-12-13T10:08:23.754824",
     "exception": false,
     "start_time": "2022-12-13T08:33:16.175773",
     "status": "completed"
    },
    "tags": []
   },
   "outputs": [
    {
     "name": "stdout",
     "output_type": "stream",
     "text": [
      "Downloading data from https://storage.googleapis.com/tensorflow/keras-applications/resnet/resnet50_weights_tf_dim_ordering_tf_kernels_notop.h5\n",
      "94773248/94765736 [==============================] - 0s 0us/step\n",
      "94781440/94765736 [==============================] - 0s 0us/step\n"
     ]
    },
    {
     "name": "stderr",
     "output_type": "stream",
     "text": [
      "2022-12-13 08:33:18.826738: I tensorflow/compiler/mlir/mlir_graph_optimization_pass.cc:185] None of the MLIR Optimization Passes are enabled (registered 2)\n"
     ]
    },
    {
     "name": "stdout",
     "output_type": "stream",
     "text": [
      "Epoch 1/25\n"
     ]
    },
    {
     "name": "stderr",
     "output_type": "stream",
     "text": [
      "2022-12-13 08:33:24.628488: I tensorflow/stream_executor/cuda/cuda_dnn.cc:369] Loaded cuDNN version 8005\n"
     ]
    },
    {
     "name": "stdout",
     "output_type": "stream",
     "text": [
      "5469/5469 [==============================] - 236s 41ms/step - loss: 0.1116 - Accuracy: 0.9654\n",
      "Epoch 2/25\n",
      "5469/5469 [==============================] - 220s 40ms/step - loss: 0.0270 - Accuracy: 0.9915\n",
      "Epoch 3/25\n",
      "5469/5469 [==============================] - 223s 41ms/step - loss: 0.0161 - Accuracy: 0.9949\n",
      "Epoch 4/25\n",
      "5469/5469 [==============================] - 218s 40ms/step - loss: 0.0115 - Accuracy: 0.9962\n",
      "Epoch 5/25\n",
      "5469/5469 [==============================] - 216s 40ms/step - loss: 0.0090 - Accuracy: 0.9972\n",
      "Epoch 6/25\n",
      "5469/5469 [==============================] - 216s 40ms/step - loss: 0.0069 - Accuracy: 0.9979\n",
      "Epoch 7/25\n",
      "5469/5469 [==============================] - 216s 40ms/step - loss: 0.0055 - Accuracy: 0.9983\n",
      "Epoch 8/25\n",
      "5469/5469 [==============================] - 217s 40ms/step - loss: 0.0050 - Accuracy: 0.9984\n",
      "Epoch 9/25\n",
      "5469/5469 [==============================] - 218s 40ms/step - loss: 0.0044 - Accuracy: 0.9987\n",
      "Epoch 10/25\n",
      "5469/5469 [==============================] - 218s 40ms/step - loss: 0.0038 - Accuracy: 0.9988\n",
      "Epoch 11/25\n",
      "5469/5469 [==============================] - 218s 40ms/step - loss: 0.0036 - Accuracy: 0.9990\n",
      "Epoch 12/25\n",
      "5469/5469 [==============================] - 223s 41ms/step - loss: 0.0030 - Accuracy: 0.9991\n",
      "Epoch 13/25\n",
      "5469/5469 [==============================] - 225s 41ms/step - loss: 0.0032 - Accuracy: 0.9990\n",
      "Epoch 14/25\n",
      "5469/5469 [==============================] - 222s 41ms/step - loss: 0.0027 - Accuracy: 0.9992\n",
      "Epoch 15/25\n",
      "5469/5469 [==============================] - 221s 40ms/step - loss: 0.0024 - Accuracy: 0.9993\n",
      "Epoch 16/25\n",
      "5469/5469 [==============================] - 220s 40ms/step - loss: 0.0021 - Accuracy: 0.9993\n",
      "Epoch 17/25\n",
      "5469/5469 [==============================] - 227s 42ms/step - loss: 0.0025 - Accuracy: 0.9994\n",
      "Epoch 18/25\n",
      "5469/5469 [==============================] - 224s 41ms/step - loss: 0.0020 - Accuracy: 0.9994\n",
      "Epoch 19/25\n",
      "5469/5469 [==============================] - 233s 43ms/step - loss: 0.0019 - Accuracy: 0.9995\n",
      "Epoch 20/25\n",
      "5469/5469 [==============================] - 228s 42ms/step - loss: 0.0024 - Accuracy: 0.9994\n",
      "Epoch 21/25\n",
      "5469/5469 [==============================] - 223s 41ms/step - loss: 0.0022 - Accuracy: 0.9993\n",
      "Epoch 22/25\n",
      "5469/5469 [==============================] - 221s 40ms/step - loss: 0.0019 - Accuracy: 0.9995\n",
      "Epoch 23/25\n",
      "5469/5469 [==============================] - 221s 40ms/step - loss: 0.0016 - Accuracy: 0.9995\n",
      "Epoch 24/25\n",
      "5469/5469 [==============================] - 227s 41ms/step - loss: 0.0018 - Accuracy: 0.9996\n",
      "Epoch 25/25\n",
      "5469/5469 [==============================] - 234s 43ms/step - loss: 0.0013 - Accuracy: 0.9997\n",
      "train 0.9996229 cv 0.9925714\n"
     ]
    }
   ],
   "source": [
    "model = resnet50()\n",
    "print('train',(sum(tf.keras.metrics.categorical_accuracy(y_train,model.predict(X_train)))/len(X_train)).numpy(),'cv',(sum(tf.keras.metrics.categorical_accuracy(y_cv,model.predict(X_cv)))/len(X_cv)).numpy())\n"
   ]
  },
  {
   "cell_type": "code",
   "execution_count": 13,
   "id": "4d4b8157",
   "metadata": {
    "execution": {
     "iopub.execute_input": "2022-12-13T10:08:32.369108Z",
     "iopub.status.busy": "2022-12-13T10:08:32.368417Z",
     "iopub.status.idle": "2022-12-13T10:08:53.626369Z",
     "shell.execute_reply": "2022-12-13T10:08:53.625378Z"
    },
    "papermill": {
     "duration": 25.362086,
     "end_time": "2022-12-13T10:08:53.628849",
     "exception": false,
     "start_time": "2022-12-13T10:08:28.266763",
     "status": "completed"
    },
    "tags": []
   },
   "outputs": [],
   "source": [
    "\n",
    "\n",
    "dataset = pd.DataFrame({'ImageId':np.arange(1,28001),'Label':np.argmax(model.predict(X_test),axis=1)})\n",
    "dataset.to_csv('submission.csv',index=False)\n",
    "\n"
   ]
  }
 ],
 "metadata": {
  "kernelspec": {
   "display_name": "Python 3",
   "language": "python",
   "name": "python3"
  },
  "language_info": {
   "codemirror_mode": {
    "name": "ipython",
    "version": 3
   },
   "file_extension": ".py",
   "mimetype": "text/x-python",
   "name": "python",
   "nbconvert_exporter": "python",
   "pygments_lexer": "ipython3",
   "version": "3.7.12"
  },
  "papermill": {
   "default_parameters": {},
   "duration": 5774.577951,
   "end_time": "2022-12-13T10:09:00.874864",
   "environment_variables": {},
   "exception": null,
   "input_path": "__notebook__.ipynb",
   "output_path": "__notebook__.ipynb",
   "parameters": {},
   "start_time": "2022-12-13T08:32:46.296913",
   "version": "2.3.4"
  }
 },
 "nbformat": 4,
 "nbformat_minor": 5
}

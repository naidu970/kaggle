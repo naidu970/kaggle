{
 "cells": [
  {
   "cell_type": "code",
   "execution_count": 1,
   "id": "fabc4406",
   "metadata": {
    "_cell_guid": "b1076dfc-b9ad-4769-8c92-a6c4dae69d19",
    "_uuid": "8f2839f25d086af736a60e9eeb907d3b93b6e0e5",
    "execution": {
     "iopub.execute_input": "2023-03-29T11:09:39.296104Z",
     "iopub.status.busy": "2023-03-29T11:09:39.295165Z",
     "iopub.status.idle": "2023-03-29T11:09:57.089830Z",
     "shell.execute_reply": "2023-03-29T11:09:57.088804Z"
    },
    "papermill": {
     "duration": 17.802433,
     "end_time": "2023-03-29T11:09:57.092346",
     "exception": false,
     "start_time": "2023-03-29T11:09:39.289913",
     "status": "completed"
    },
    "tags": []
   },
   "outputs": [
    {
     "name": "stdout",
     "output_type": "stream",
     "text": [
      "\u001b[33mWARNING: Running pip as the 'root' user can result in broken permissions and conflicting behaviour with the system package manager. It is recommended to use a virtual environment instead: https://pip.pypa.io/warnings/venv\u001b[0m\u001b[33m\r\n",
      "\u001b[0m"
     ]
    },
    {
     "data": {
      "text/plain": [
       "'2.11.0'"
      ]
     },
     "execution_count": 1,
     "metadata": {},
     "output_type": "execute_result"
    }
   ],
   "source": [
    "!pip install -q tflite_runtime\n",
    "\n",
    "import numpy as np\n",
    "import pandas as pd\n",
    "\n",
    "import os\n",
    "import json\n",
    "import tensorflow as tf\n",
    "import matplotlib.pyplot as plt\n",
    "import tflite_runtime.interpreter as tflite\n",
    "import tqdm\n",
    "\n",
    "from tensorflow.keras.layers import Conv1D, TimeDistributed,MaxPooling2D,Flatten,LSTM,Dense,GlobalMaxPooling2D,Concatenate, Dropout,Bidirectional\n",
    "from tensorflow.keras import Sequential,Model,Input\n",
    "from tensorflow.keras.losses import SparseCategoricalCrossentropy\n",
    "from tensorflow.keras.metrics import SparseTopKCategoricalAccuracy\n",
    "from tensorflow.keras.optimizers import Adam\n",
    "\n",
    "\n",
    "\n",
    "tf.__version__"
   ]
  },
  {
   "cell_type": "code",
   "execution_count": 2,
   "id": "227a3889",
   "metadata": {
    "execution": {
     "iopub.execute_input": "2023-03-29T11:09:57.102200Z",
     "iopub.status.busy": "2023-03-29T11:09:57.100133Z",
     "iopub.status.idle": "2023-03-29T11:09:57.306651Z",
     "shell.execute_reply": "2023-03-29T11:09:57.305302Z"
    },
    "papermill": {
     "duration": 0.21401,
     "end_time": "2023-03-29T11:09:57.309839",
     "exception": false,
     "start_time": "2023-03-29T11:09:57.095829",
     "status": "completed"
    },
    "tags": []
   },
   "outputs": [
    {
     "name": "stdout",
     "output_type": "stream",
     "text": [
      "                                            path  participant_id  sequence_id  \\\n",
      "0  train_landmark_files/26734/1000035562.parquet           26734   1000035562   \n",
      "1  train_landmark_files/28656/1000106739.parquet           28656   1000106739   \n",
      "2   train_landmark_files/16069/100015657.parquet           16069    100015657   \n",
      "3  train_landmark_files/25571/1000210073.parquet           25571   1000210073   \n",
      "4  train_landmark_files/62590/1000240708.parquet           62590   1000240708   \n",
      "\n",
      "    sign  \n",
      "0   blow  \n",
      "1   wait  \n",
      "2  cloud  \n",
      "3   bird  \n",
      "4   owie  \n"
     ]
    }
   ],
   "source": [
    "train = pd.read_csv('/kaggle/input/asl-signs/train.csv')\n",
    "\n",
    "print(train.head())\n",
    "\n",
    "k = open('/kaggle/input/asl-signs/sign_to_prediction_index_map.json')\n",
    "sign_to_prediction_index_map = json.load(k)\n",
    "prediction_to_sign_map = {}\n",
    "for i, j in sign_to_prediction_index_map.items():\n",
    "    prediction_to_sign_map[j]=i\n",
    "\n",
    "\n",
    "\n",
    "ROWS_PER_FRAME = 543  # number of landmarks per frame\n",
    "\n",
    "def load_relevant_data_subset(pq_path):\n",
    "    data_columns = ['x', 'y', 'z']\n",
    "    data = pd.read_parquet(pq_path, columns=data_columns)#.fillna(0)\n",
    "    n_frames = int(len(data) / ROWS_PER_FRAME)\n",
    "    data = data.values.reshape(n_frames, ROWS_PER_FRAME, len(data_columns))\n",
    "    return data.astype(np.float32)\n",
    "def load_relevant_data_subset_train(pq_path):\n",
    "    data_columns = ['x', 'y', 'z']\n",
    "    data = pd.read_parquet(pq_path, columns=data_columns).fillna(0)\n",
    "    n_frames = int(len(data) / ROWS_PER_FRAME)\n",
    "    data = data.values.reshape(n_frames, ROWS_PER_FRAME, len(data_columns))\n",
    "    return data.astype(np.float32)"
   ]
  },
  {
   "cell_type": "markdown",
   "id": "7e40a031",
   "metadata": {
    "execution": {
     "iopub.execute_input": "2023-03-12T19:27:16.554975Z",
     "iopub.status.busy": "2023-03-12T19:27:16.554507Z",
     "iopub.status.idle": "2023-03-12T19:27:16.567275Z",
     "shell.execute_reply": "2023-03-12T19:27:16.565975Z",
     "shell.execute_reply.started": "2023-03-12T19:27:16.554931Z"
    },
    "papermill": {
     "duration": 0.002969,
     "end_time": "2023-03-29T11:09:57.316679",
     "exception": false,
     "start_time": "2023-03-29T11:09:57.313710",
     "status": "completed"
    },
    "tags": []
   },
   "source": [
    "type\n",
    "face          468\n",
    "pose           33\n",
    "left_hand      21\n",
    "right_hand     21\n",
    "Name: type, dtype: int64"
   ]
  },
  {
   "cell_type": "code",
   "execution_count": 3,
   "id": "aa393f06",
   "metadata": {
    "execution": {
     "iopub.execute_input": "2023-03-29T11:09:57.324165Z",
     "iopub.status.busy": "2023-03-29T11:09:57.323861Z",
     "iopub.status.idle": "2023-03-29T11:10:13.180635Z",
     "shell.execute_reply": "2023-03-29T11:10:13.179508Z"
    },
    "papermill": {
     "duration": 15.863645,
     "end_time": "2023-03-29T11:10:13.183299",
     "exception": false,
     "start_time": "2023-03-29T11:09:57.319654",
     "status": "completed"
    },
    "tags": []
   },
   "outputs": [],
   "source": [
    "try:\n",
    "    X = np.load('/kaggle/input/asl-signs-naidu/X.npy')\n",
    "    y = np.load('/kaggle/input/asl-signs-naidu/y.npy')\n",
    "    X_train = X[:89753,:,:]\n",
    "    y_train = y[:89753]\n",
    "    X_cv = X[89753:,:,:]\n",
    "    y_cv = y[89753:]\n",
    "    \n",
    "except:\n",
    "    files =train['path'].values\n",
    "    X = np.zeros((len(train),543,3))\n",
    "    y = np.zeros((len(train)))\n",
    "    for i , fname in tqdm.tqdm(enumerate(files)):\n",
    "        arr = load_relevant_data_subset_train('/kaggle/input/asl-signs/'+fname)\n",
    "        X[i,:,:] = np.mean(arr,axis=0)\n",
    "        y[i] = sign_to_prediction_index_map[train.loc[i,'sign']]\n",
    "    y = y.astype('int32')\n",
    "    np.save('X.npy',X)\n",
    "    np.save('y.npy',y)\n",
    "    X_train = X[:89753,:,:]\n",
    "    y_train = y[:89753]\n",
    "    X_cv = X[89753:,:,:]\n",
    "    y_cv = y[89753:]\n",
    "    \n",
    "    \n"
   ]
  },
  {
   "cell_type": "code",
   "execution_count": 4,
   "id": "7b4b59fc",
   "metadata": {
    "execution": {
     "iopub.execute_input": "2023-03-29T11:10:13.191309Z",
     "iopub.status.busy": "2023-03-29T11:10:13.191017Z",
     "iopub.status.idle": "2023-03-29T11:10:13.199054Z",
     "shell.execute_reply": "2023-03-29T11:10:13.198024Z"
    },
    "papermill": {
     "duration": 0.014383,
     "end_time": "2023-03-29T11:10:13.201252",
     "exception": false,
     "start_time": "2023-03-29T11:10:13.186869",
     "status": "completed"
    },
    "tags": []
   },
   "outputs": [],
   "source": [
    "def conv1D_lstm(inputs,filters,kernel_size,lstm_nodes,num_lstm,bi=False):\n",
    "    for i,j in enumerate(filters):\n",
    "        inputs = Conv1D(filters=j,kernel_size=kernel_size[i])(inputs) \n",
    "        \n",
    "    if bi:\n",
    "        if len(lstm_nodes)>1:\n",
    "            for i in lstm_nodes[:-1]:\n",
    "                inputs = Bidirectional(LSTM(i,return_sequences=True))(inputs)\n",
    "            inputs = Bidirectional(LSTM(lstm_nodes[-1]))(inputs)    \n",
    "            return inputs\n",
    "        else:\n",
    "            inputs = Bidirectional(LSTM(lstm_nodes[0]))(inputs)\n",
    "            return inputs\n",
    "    else:\n",
    "        if len(lstm_nodes)>1:\n",
    "            for i in lstm_nodes[:-1]:\n",
    "                inputs = LSTM(i,return_sequences=True)(inputs)\n",
    "            inputs = LSTM(lstm_nodes[-1])(inputs)    \n",
    "            return inputs\n",
    "        else:\n",
    "            inputs = LSTM(lstm_nodes[0])(inputs)\n",
    "            return inputs\n",
    "        \n",
    "            \n",
    "    "
   ]
  },
  {
   "cell_type": "code",
   "execution_count": 5,
   "id": "7bed5d1b",
   "metadata": {
    "execution": {
     "iopub.execute_input": "2023-03-29T11:10:13.208620Z",
     "iopub.status.busy": "2023-03-29T11:10:13.208335Z",
     "iopub.status.idle": "2023-03-29T11:10:13.218125Z",
     "shell.execute_reply": "2023-03-29T11:10:13.217148Z"
    },
    "papermill": {
     "duration": 0.015791,
     "end_time": "2023-03-29T11:10:13.220249",
     "exception": false,
     "start_time": "2023-03-29T11:10:13.204458",
     "status": "completed"
    },
    "tags": []
   },
   "outputs": [],
   "source": [
    "def nn_model():\n",
    "    inputs = tf.keras.Input(shape=(543,3),name='inputty')\n",
    "    face = inputs[:,:468,:]\n",
    "    l_hand = inputs[:,468:468+21,:]\n",
    "    pose = inputs[:,468+21:468+21+33,:]\n",
    "    r_hand = inputs[:,468+21+33:468+21+33+21,:]\n",
    "    \n",
    "    face = conv1D_lstm(face,[16,32,64],[5,3,3],[128],1,True)\n",
    "    l_hand = conv1D_lstm(l_hand,[16,32,64],[5,3,3],[128],1,True)\n",
    "    pose = conv1D_lstm(pose,[16,32,64],[5,3,3],[128],1,True)\n",
    "    r_hand = conv1D_lstm(r_hand,[16,32,64],[5,3,3],[128],1,True)\n",
    "    \n",
    "    \n",
    "    #face = Dense(units=128)(face)\n",
    "    #l_hand = Dense(units=128)(l_hand)\n",
    "    #pose = Dense(units=128)(pose)\n",
    "    #r_hand = Dense(units=128)(r_hand)\n",
    "    \n",
    "\n",
    "    \n",
    "    \n",
    "    X = Concatenate()([face,l_hand,pose,r_hand])\n",
    "    X = Dropout(0.2)(X)\n",
    "    outputs = Dense(units=250,activation='softmax',name='outputty')(X)\n",
    "    model = Model(inputs=inputs, outputs = outputs)\n",
    "    model.compile(loss =SparseCategoricalCrossentropy(), optimizer =Adam(), metrics=['accuracy'])#,SparseTopKCategoricalAccuracy(10,name='sparse_top_10'),SparseTopKCategoricalAccuracy(20,name='sparse_top_20'),SparseTopKCategoricalAccuracy(50,name='sparse_top_50')])\n",
    "    model.summary()\n",
    "    return model\n"
   ]
  },
  {
   "cell_type": "code",
   "execution_count": 6,
   "id": "78948031",
   "metadata": {
    "execution": {
     "iopub.execute_input": "2023-03-29T11:10:13.227750Z",
     "iopub.status.busy": "2023-03-29T11:10:13.227297Z",
     "iopub.status.idle": "2023-03-29T12:17:40.744195Z",
     "shell.execute_reply": "2023-03-29T12:17:40.743126Z"
    },
    "papermill": {
     "duration": 4047.52457,
     "end_time": "2023-03-29T12:17:40.747879",
     "exception": false,
     "start_time": "2023-03-29T11:10:13.223309",
     "status": "completed"
    },
    "tags": []
   },
   "outputs": [
    {
     "name": "stdout",
     "output_type": "stream",
     "text": [
      "Model: \"model\"\n",
      "__________________________________________________________________________________________________\n",
      " Layer (type)                   Output Shape         Param #     Connected to                     \n",
      "==================================================================================================\n",
      " inputty (InputLayer)           [(None, 543, 3)]     0           []                               \n",
      "                                                                                                  \n",
      " tf.__operators__.getitem (Slic  (None, 468, 3)      0           ['inputty[0][0]']                \n",
      " ingOpLambda)                                                                                     \n",
      "                                                                                                  \n",
      " tf.__operators__.getitem_1 (Sl  (None, 21, 3)       0           ['inputty[0][0]']                \n",
      " icingOpLambda)                                                                                   \n",
      "                                                                                                  \n",
      " tf.__operators__.getitem_2 (Sl  (None, 33, 3)       0           ['inputty[0][0]']                \n",
      " icingOpLambda)                                                                                   \n",
      "                                                                                                  \n",
      " tf.__operators__.getitem_3 (Sl  (None, 21, 3)       0           ['inputty[0][0]']                \n",
      " icingOpLambda)                                                                                   \n",
      "                                                                                                  \n",
      " conv1d (Conv1D)                (None, 464, 16)      256         ['tf.__operators__.getitem[0][0]'\n",
      "                                                                 ]                                \n",
      "                                                                                                  \n",
      " conv1d_3 (Conv1D)              (None, 17, 16)       256         ['tf.__operators__.getitem_1[0][0\n",
      "                                                                 ]']                              \n",
      "                                                                                                  \n",
      " conv1d_6 (Conv1D)              (None, 29, 16)       256         ['tf.__operators__.getitem_2[0][0\n",
      "                                                                 ]']                              \n",
      "                                                                                                  \n",
      " conv1d_9 (Conv1D)              (None, 17, 16)       256         ['tf.__operators__.getitem_3[0][0\n",
      "                                                                 ]']                              \n",
      "                                                                                                  \n",
      " conv1d_1 (Conv1D)              (None, 462, 32)      1568        ['conv1d[0][0]']                 \n",
      "                                                                                                  \n",
      " conv1d_4 (Conv1D)              (None, 15, 32)       1568        ['conv1d_3[0][0]']               \n",
      "                                                                                                  \n",
      " conv1d_7 (Conv1D)              (None, 27, 32)       1568        ['conv1d_6[0][0]']               \n",
      "                                                                                                  \n",
      " conv1d_10 (Conv1D)             (None, 15, 32)       1568        ['conv1d_9[0][0]']               \n",
      "                                                                                                  \n",
      " conv1d_2 (Conv1D)              (None, 460, 64)      6208        ['conv1d_1[0][0]']               \n",
      "                                                                                                  \n",
      " conv1d_5 (Conv1D)              (None, 13, 64)       6208        ['conv1d_4[0][0]']               \n",
      "                                                                                                  \n",
      " conv1d_8 (Conv1D)              (None, 25, 64)       6208        ['conv1d_7[0][0]']               \n",
      "                                                                                                  \n",
      " conv1d_11 (Conv1D)             (None, 13, 64)       6208        ['conv1d_10[0][0]']              \n",
      "                                                                                                  \n",
      " bidirectional (Bidirectional)  (None, 256)          197632      ['conv1d_2[0][0]']               \n",
      "                                                                                                  \n",
      " bidirectional_1 (Bidirectional  (None, 256)         197632      ['conv1d_5[0][0]']               \n",
      " )                                                                                                \n",
      "                                                                                                  \n",
      " bidirectional_2 (Bidirectional  (None, 256)         197632      ['conv1d_8[0][0]']               \n",
      " )                                                                                                \n",
      "                                                                                                  \n",
      " bidirectional_3 (Bidirectional  (None, 256)         197632      ['conv1d_11[0][0]']              \n",
      " )                                                                                                \n",
      "                                                                                                  \n",
      " concatenate (Concatenate)      (None, 1024)         0           ['bidirectional[0][0]',          \n",
      "                                                                  'bidirectional_1[0][0]',        \n",
      "                                                                  'bidirectional_2[0][0]',        \n",
      "                                                                  'bidirectional_3[0][0]']        \n",
      "                                                                                                  \n",
      " dropout (Dropout)              (None, 1024)         0           ['concatenate[0][0]']            \n",
      "                                                                                                  \n",
      " outputty (Dense)               (None, 250)          256250      ['dropout[0][0]']                \n",
      "                                                                                                  \n",
      "==================================================================================================\n",
      "Total params: 1,078,906\n",
      "Trainable params: 1,078,906\n",
      "Non-trainable params: 0\n",
      "__________________________________________________________________________________________________\n",
      "Epoch 1/150\n",
      "1403/1403 [==============================] - 159s 97ms/step - loss: 4.5927 - accuracy: 0.0686 - val_loss: 3.8455 - val_accuracy: 0.1528 - lr: 0.0010\n",
      "Epoch 2/150\n",
      "1403/1403 [==============================] - 135s 96ms/step - loss: 3.4680 - accuracy: 0.2093 - val_loss: 3.0713 - val_accuracy: 0.2710 - lr: 0.0010\n",
      "Epoch 3/150\n",
      "1403/1403 [==============================] - 135s 96ms/step - loss: 2.8880 - accuracy: 0.3117 - val_loss: 2.7468 - val_accuracy: 0.3309 - lr: 0.0010\n",
      "Epoch 4/150\n",
      "1403/1403 [==============================] - 136s 97ms/step - loss: 2.5388 - accuracy: 0.3787 - val_loss: 2.4687 - val_accuracy: 0.3982 - lr: 0.0010\n",
      "Epoch 5/150\n",
      "1403/1403 [==============================] - 136s 97ms/step - loss: 2.2951 - accuracy: 0.4287 - val_loss: 2.2861 - val_accuracy: 0.4354 - lr: 0.0010\n",
      "Epoch 6/150\n",
      "1403/1403 [==============================] - 136s 97ms/step - loss: 2.1267 - accuracy: 0.4625 - val_loss: 2.1281 - val_accuracy: 0.4748 - lr: 0.0010\n",
      "Epoch 7/150\n",
      "1403/1403 [==============================] - 136s 97ms/step - loss: 1.9748 - accuracy: 0.4966 - val_loss: 2.0652 - val_accuracy: 0.4860 - lr: 0.0010\n",
      "Epoch 8/150\n",
      "1403/1403 [==============================] - 136s 97ms/step - loss: 1.8544 - accuracy: 0.5239 - val_loss: 2.0265 - val_accuracy: 0.4960 - lr: 0.0010\n",
      "Epoch 9/150\n",
      "1403/1403 [==============================] - 136s 97ms/step - loss: 1.7430 - accuracy: 0.5477 - val_loss: 1.9560 - val_accuracy: 0.5089 - lr: 0.0010\n",
      "Epoch 10/150\n",
      "1403/1403 [==============================] - 136s 97ms/step - loss: 1.6484 - accuracy: 0.5665 - val_loss: 1.9066 - val_accuracy: 0.5227 - lr: 0.0010\n",
      "Epoch 11/150\n",
      "1403/1403 [==============================] - 136s 97ms/step - loss: 1.5544 - accuracy: 0.5900 - val_loss: 1.8820 - val_accuracy: 0.5309 - lr: 0.0010\n",
      "Epoch 12/150\n",
      "1403/1403 [==============================] - 136s 97ms/step - loss: 1.4635 - accuracy: 0.6106 - val_loss: 1.8564 - val_accuracy: 0.5394 - lr: 0.0010\n",
      "Epoch 13/150\n",
      "1403/1403 [==============================] - 135s 97ms/step - loss: 1.3879 - accuracy: 0.6282 - val_loss: 1.8309 - val_accuracy: 0.5483 - lr: 0.0010\n",
      "Epoch 14/150\n",
      "1403/1403 [==============================] - 136s 97ms/step - loss: 1.3205 - accuracy: 0.6431 - val_loss: 1.8117 - val_accuracy: 0.5578 - lr: 0.0010\n",
      "Epoch 15/150\n",
      "1403/1403 [==============================] - 135s 96ms/step - loss: 1.2722 - accuracy: 0.6539 - val_loss: 1.7893 - val_accuracy: 0.5633 - lr: 0.0010\n",
      "Epoch 16/150\n",
      "1403/1403 [==============================] - 135s 96ms/step - loss: 1.1871 - accuracy: 0.6740 - val_loss: 1.8328 - val_accuracy: 0.5502 - lr: 0.0010\n",
      "Epoch 17/150\n",
      "1403/1403 [==============================] - ETA: 0s - loss: 1.1270 - accuracy: 0.6884\n",
      "Epoch 17: ReduceLROnPlateau reducing learning rate to 0.000800000037997961.\n",
      "1403/1403 [==============================] - 135s 96ms/step - loss: 1.1270 - accuracy: 0.6884 - val_loss: 1.8079 - val_accuracy: 0.5567 - lr: 0.0010\n",
      "Epoch 18/150\n",
      "1403/1403 [==============================] - 136s 97ms/step - loss: 0.9941 - accuracy: 0.7244 - val_loss: 1.7823 - val_accuracy: 0.5726 - lr: 8.0000e-04\n",
      "Epoch 19/150\n",
      "1403/1403 [==============================] - 135s 97ms/step - loss: 0.9383 - accuracy: 0.7365 - val_loss: 1.7742 - val_accuracy: 0.5728 - lr: 8.0000e-04\n",
      "Epoch 20/150\n",
      "1403/1403 [==============================] - 136s 97ms/step - loss: 0.8880 - accuracy: 0.7511 - val_loss: 1.8246 - val_accuracy: 0.5660 - lr: 8.0000e-04\n",
      "Epoch 21/150\n",
      "1403/1403 [==============================] - ETA: 0s - loss: 0.8438 - accuracy: 0.7611\n",
      "Epoch 21: ReduceLROnPlateau reducing learning rate to 0.0006400000303983689.\n",
      "1403/1403 [==============================] - 137s 97ms/step - loss: 0.8438 - accuracy: 0.7611 - val_loss: 1.8286 - val_accuracy: 0.5680 - lr: 8.0000e-04\n",
      "Epoch 22/150\n",
      "1403/1403 [==============================] - 136s 97ms/step - loss: 0.7379 - accuracy: 0.7895 - val_loss: 1.8136 - val_accuracy: 0.5815 - lr: 6.4000e-04\n",
      "Epoch 23/150\n",
      "1403/1403 [==============================] - ETA: 0s - loss: 0.6961 - accuracy: 0.8004\n",
      "Epoch 23: ReduceLROnPlateau reducing learning rate to 0.0005120000336319208.\n",
      "1403/1403 [==============================] - 137s 98ms/step - loss: 0.6961 - accuracy: 0.8004 - val_loss: 1.8303 - val_accuracy: 0.5703 - lr: 6.4000e-04\n",
      "Epoch 24/150\n",
      "1403/1403 [==============================] - 136s 97ms/step - loss: 0.6044 - accuracy: 0.8284 - val_loss: 1.8094 - val_accuracy: 0.5840 - lr: 5.1200e-04\n",
      "Epoch 25/150\n",
      "1403/1403 [==============================] - ETA: 0s - loss: 0.5747 - accuracy: 0.8360\n",
      "Epoch 25: ReduceLROnPlateau reducing learning rate to 0.00040960004553198815.\n",
      "1403/1403 [==============================] - 135s 96ms/step - loss: 0.5747 - accuracy: 0.8360 - val_loss: 1.8342 - val_accuracy: 0.5737 - lr: 5.1200e-04\n",
      "Epoch 26/150\n",
      "1403/1403 [==============================] - 136s 97ms/step - loss: 0.5082 - accuracy: 0.8572 - val_loss: 1.8353 - val_accuracy: 0.5902 - lr: 4.0960e-04\n",
      "Epoch 27/150\n",
      "1403/1403 [==============================] - ETA: 0s - loss: 0.4776 - accuracy: 0.8656\n",
      "Epoch 27: ReduceLROnPlateau reducing learning rate to 0.00032768002711236477.\n",
      "1403/1403 [==============================] - 135s 96ms/step - loss: 0.4776 - accuracy: 0.8656 - val_loss: 1.8347 - val_accuracy: 0.5906 - lr: 4.0960e-04\n",
      "Epoch 28/150\n",
      "1403/1403 [==============================] - 136s 97ms/step - loss: 0.4232 - accuracy: 0.8828 - val_loss: 1.8567 - val_accuracy: 0.5836 - lr: 3.2768e-04\n",
      "Epoch 29/150\n",
      "1403/1403 [==============================] - ETA: 0s - loss: 0.4020 - accuracy: 0.8885\n",
      "Epoch 29: ReduceLROnPlateau reducing learning rate to 0.0002621440216898918.\n",
      "Restoring model weights from the end of the best epoch: 19.\n",
      "1403/1403 [==============================] - 136s 97ms/step - loss: 0.4020 - accuracy: 0.8885 - val_loss: 1.8614 - val_accuracy: 0.5800 - lr: 3.2768e-04\n",
      "Epoch 29: early stopping\n"
     ]
    }
   ],
   "source": [
    "\n",
    "tf.keras.backend.clear_session()\n",
    "model = nn_model()\n",
    "epoch = 150\n",
    "try:\n",
    "    tf.keras.models.load_model(model,'/kaggle/input/asl-signs-naidu/trained_keras')\n",
    "    tf.keras.models.save_model(model,'/kaggle/working/trained_keras')\n",
    "except:    \n",
    "    #pass\n",
    "    history = model.fit(X_train,y_train,validation_data = (X_cv,y_cv),epochs=epoch,batch_size=64,callbacks=[tf.keras.callbacks.ModelCheckpoint('v22.h5'),tf.keras.callbacks.ReduceLROnPlateau(monitor=\"val_loss\",factor=0.8,patience=2,verbose=1),tf.keras.callbacks.EarlyStopping(monitor='val_loss',min_delta=0,patience=10,verbose=1,restore_best_weights=True)])#,tf.keras.callbacks.EarlyStopping( monitor=\"accuracy\", patience=4,verbose=1,mode=\"max\")])\n",
    "    tf.keras.models.save_model(model,'/kaggle/working/trained_keras')\n",
    "    #tf.saved_model.save(model, '/kaggle/working/trained')"
   ]
  },
  {
   "cell_type": "markdown",
   "id": "467ff918",
   "metadata": {
    "execution": {
     "iopub.execute_input": "2023-03-16T07:14:20.189854Z",
     "iopub.status.busy": "2023-03-16T07:14:20.189159Z",
     "iopub.status.idle": "2023-03-16T07:14:20.480587Z",
     "shell.execute_reply": "2023-03-16T07:14:20.479423Z",
     "shell.execute_reply.started": "2023-03-16T07:14:20.189816Z"
    },
    "papermill": {
     "duration": 2.424689,
     "end_time": "2023-03-29T12:17:45.468217",
     "exception": false,
     "start_time": "2023-03-29T12:17:43.043528",
     "status": "completed"
    },
    "tags": []
   },
   "source": [
    "plt.figure(figsize=(15,9))\n",
    "plt.plot(np.arange(1,epoch+1),history.history['loss'],color='blue',label='training_data')\n",
    "plt.plot(np.arange(1,epoch+1),history.history['val_loss'],color='red',label='validation_data')\n",
    "plt.legend()\n",
    "plt.show()\n"
   ]
  },
  {
   "cell_type": "markdown",
   "id": "6932deef",
   "metadata": {
    "execution": {
     "iopub.execute_input": "2023-03-16T07:14:42.897417Z",
     "iopub.status.busy": "2023-03-16T07:14:42.896830Z",
     "iopub.status.idle": "2023-03-16T07:14:43.161578Z",
     "shell.execute_reply": "2023-03-16T07:14:43.160414Z",
     "shell.execute_reply.started": "2023-03-16T07:14:42.897382Z"
    },
    "papermill": {
     "duration": 2.333308,
     "end_time": "2023-03-29T12:17:50.290182",
     "exception": false,
     "start_time": "2023-03-29T12:17:47.956874",
     "status": "completed"
    },
    "tags": []
   },
   "source": [
    "plt.figure(figsize=(15,9))\n",
    "plt.plot(np.arange(1,epoch+1),history.history['accuracy'],color='blue',label='training_data')\n",
    "plt.plot(np.arange(1,epoch+1),history.history['val_accuracy'],color='red',label='validation_data')\n",
    "plt.legend()\n",
    "plt.show()\n"
   ]
  },
  {
   "cell_type": "code",
   "execution_count": 7,
   "id": "ac021b66",
   "metadata": {
    "execution": {
     "iopub.execute_input": "2023-03-29T12:17:55.111387Z",
     "iopub.status.busy": "2023-03-29T12:17:55.110169Z",
     "iopub.status.idle": "2023-03-29T12:19:34.248794Z",
     "shell.execute_reply": "2023-03-29T12:19:34.246674Z"
    },
    "papermill": {
     "duration": 101.644899,
     "end_time": "2023-03-29T12:19:34.251265",
     "exception": false,
     "start_time": "2023-03-29T12:17:52.606366",
     "status": "completed"
    },
    "tags": []
   },
   "outputs": [
    {
     "name": "stdout",
     "output_type": "stream",
     "text": [
      "Model: \"model\"\n",
      "__________________________________________________________________________________________________\n",
      " Layer (type)                   Output Shape         Param #     Connected to                     \n",
      "==================================================================================================\n",
      " inputs (InputLayer)            [(None, 543, 3)]     0           []                               \n",
      "                                                                                                  \n",
      " tf.math.is_nan (TFOpLambda)    (None, 543, 3)       0           ['inputs[0][0]']                 \n",
      "                                                                                                  \n",
      " tf.zeros_like (TFOpLambda)     (None, 543, 3)       0           ['inputs[0][0]']                 \n",
      "                                                                                                  \n",
      " tf.where (TFOpLambda)          (None, 543, 3)       0           ['tf.math.is_nan[0][0]',         \n",
      "                                                                  'tf.zeros_like[0][0]',          \n",
      "                                                                  'inputs[0][0]']                 \n",
      "                                                                                                  \n",
      " tf.math.reduce_mean (TFOpLambd  (1, 543, 3)         0           ['tf.where[0][0]']               \n",
      " a)                                                                                               \n",
      "                                                                                                  \n",
      " model (Functional)             (None, 250)          1078906     ['tf.math.reduce_mean[0][0]']    \n",
      "                                                                                                  \n",
      " outputs (Activation)           (1, 250)             0           ['model[0][0]']                  \n",
      "                                                                                                  \n",
      "==================================================================================================\n",
      "Total params: 1,078,906\n",
      "Trainable params: 1,078,906\n",
      "Non-trainable params: 0\n",
      "__________________________________________________________________________________________________\n",
      "  adding: model.tflite (deflated 8%)\r\n"
     ]
    },
    {
     "name": "stderr",
     "output_type": "stream",
     "text": [
      "  3%|▎         | 3/100 [00:00<00:08, 10.90it/s]"
     ]
    },
    {
     "name": "stdout",
     "output_type": "stream",
     "text": [
      "Predicted label: blow, Actual Label: blow\n",
      "Predicted label: happy, Actual Label: wait\n",
      "Predicted label: cloud, Actual Label: cloud\n",
      "Predicted label: bird, Actual Label: bird\n"
     ]
    },
    {
     "name": "stderr",
     "output_type": "stream",
     "text": [
      "  7%|▋         | 7/100 [00:00<00:05, 15.99it/s]"
     ]
    },
    {
     "name": "stdout",
     "output_type": "stream",
     "text": [
      "Predicted label: owie, Actual Label: owie\n",
      "Predicted label: duck, Actual Label: duck\n",
      "Predicted label: minemy, Actual Label: minemy\n",
      "Predicted label: lips, Actual Label: lips\n"
     ]
    },
    {
     "name": "stderr",
     "output_type": "stream",
     "text": [
      " 11%|█         | 11/100 [00:00<00:05, 16.99it/s]"
     ]
    },
    {
     "name": "stdout",
     "output_type": "stream",
     "text": [
      "Predicted label: flower, Actual Label: flower\n",
      "Predicted label: time, Actual Label: time\n",
      "Predicted label: vacuum, Actual Label: vacuum\n"
     ]
    },
    {
     "name": "stderr",
     "output_type": "stream",
     "text": [
      " 13%|█▎        | 13/100 [00:00<00:06, 13.27it/s]"
     ]
    },
    {
     "name": "stdout",
     "output_type": "stream",
     "text": [
      "Predicted label: apple, Actual Label: apple\n",
      "Predicted label: puzzle, Actual Label: puzzle\n"
     ]
    },
    {
     "name": "stderr",
     "output_type": "stream",
     "text": [
      " 15%|█▌        | 15/100 [00:01<00:08,  9.75it/s]"
     ]
    },
    {
     "name": "stdout",
     "output_type": "stream",
     "text": [
      "Predicted label: mitten, Actual Label: mitten\n",
      "Predicted label: there, Actual Label: there\n"
     ]
    },
    {
     "name": "stderr",
     "output_type": "stream",
     "text": [
      " 17%|█▋        | 17/100 [00:01<00:08,  9.89it/s]"
     ]
    },
    {
     "name": "stdout",
     "output_type": "stream",
     "text": [
      "Predicted label: dry, Actual Label: dry\n",
      "Predicted label: shirt, Actual Label: shirt\n",
      "Predicted label: owl, Actual Label: owl\n"
     ]
    },
    {
     "name": "stderr",
     "output_type": "stream",
     "text": [
      " 21%|██        | 21/100 [00:01<00:07, 10.58it/s]"
     ]
    },
    {
     "name": "stdout",
     "output_type": "stream",
     "text": [
      "Predicted label: yellow, Actual Label: yellow\n",
      "Predicted label: vacuum, Actual Label: time\n",
      "Predicted label: not, Actual Label: not\n"
     ]
    },
    {
     "name": "stderr",
     "output_type": "stream",
     "text": [
      " 23%|██▎       | 23/100 [00:01<00:07, 10.80it/s]"
     ]
    },
    {
     "name": "stdout",
     "output_type": "stream",
     "text": [
      "Predicted label: zipper, Actual Label: zipper\n",
      "Predicted label: clean, Actual Label: clean\n",
      "Predicted label: closet, Actual Label: closet\n"
     ]
    },
    {
     "name": "stderr",
     "output_type": "stream",
     "text": [
      " 27%|██▋       | 27/100 [00:02<00:06, 11.90it/s]"
     ]
    },
    {
     "name": "stdout",
     "output_type": "stream",
     "text": [
      "Predicted label: quiet, Actual Label: quiet\n",
      "Predicted label: have, Actual Label: have\n",
      "Predicted label: brother, Actual Label: brother\n"
     ]
    },
    {
     "name": "stderr",
     "output_type": "stream",
     "text": [
      " 31%|███       | 31/100 [00:02<00:05, 12.08it/s]"
     ]
    },
    {
     "name": "stdout",
     "output_type": "stream",
     "text": [
      "Predicted label: clown, Actual Label: clown\n",
      "Predicted label: cheek, Actual Label: cheek\n",
      "Predicted label: cute, Actual Label: cute\n",
      "Predicted label: store, Actual Label: store\n"
     ]
    },
    {
     "name": "stderr",
     "output_type": "stream",
     "text": [
      " 34%|███▍      | 34/100 [00:02<00:04, 14.46it/s]"
     ]
    },
    {
     "name": "stdout",
     "output_type": "stream",
     "text": [
      "Predicted label: shoe, Actual Label: shoe\n",
      "Predicted label: wet, Actual Label: wet\n",
      "Predicted label: shirt, Actual Label: shirt\n",
      "Predicted label: see, Actual Label: see\n",
      "Predicted label: empty, Actual Label: empty\n"
     ]
    },
    {
     "name": "stderr",
     "output_type": "stream",
     "text": [
      " 40%|████      | 40/100 [00:03<00:03, 17.98it/s]"
     ]
    },
    {
     "name": "stdout",
     "output_type": "stream",
     "text": [
      "Predicted label: fall, Actual Label: fall\n",
      "Predicted label: balloon, Actual Label: balloon\n",
      "Predicted label: frenchfries, Actual Label: frenchfries\n",
      "Predicted label: finger, Actual Label: finger\n"
     ]
    },
    {
     "name": "stderr",
     "output_type": "stream",
     "text": [
      " 44%|████▍     | 44/100 [00:03<00:03, 18.61it/s]"
     ]
    },
    {
     "name": "stdout",
     "output_type": "stream",
     "text": [
      "Predicted label: same, Actual Label: same\n",
      "Predicted label: car, Actual Label: cry\n",
      "Predicted label: bath, Actual Label: hungry\n",
      "Predicted label: owl, Actual Label: owl\n"
     ]
    },
    {
     "name": "stderr",
     "output_type": "stream",
     "text": [
      " 46%|████▌     | 46/100 [00:03<00:03, 14.10it/s]"
     ]
    },
    {
     "name": "stdout",
     "output_type": "stream",
     "text": [
      "Predicted label: orange, Actual Label: orange\n",
      "Predicted label: cloud, Actual Label: cloud\n",
      "Predicted label: fast, Actual Label: milk\n"
     ]
    },
    {
     "name": "stderr",
     "output_type": "stream",
     "text": [
      " 50%|█████     | 50/100 [00:03<00:03, 15.27it/s]"
     ]
    },
    {
     "name": "stdout",
     "output_type": "stream",
     "text": [
      "Predicted label: go, Actual Label: go\n",
      "Predicted label: store, Actual Label: store\n",
      "Predicted label: hide, Actual Label: drawer\n"
     ]
    },
    {
     "name": "stderr",
     "output_type": "stream",
     "text": [
      " 55%|█████▌    | 55/100 [00:03<00:02, 18.28it/s]"
     ]
    },
    {
     "name": "stdout",
     "output_type": "stream",
     "text": [
      "Predicted label: TV, Actual Label: TV\n",
      "Predicted label: dryer, Actual Label: dry\n",
      "Predicted label: duck, Actual Label: duck\n",
      "Predicted label: blow, Actual Label: blow\n",
      "Predicted label: another, Actual Label: another\n",
      "Predicted label: giraffe, Actual Label: giraffe\n"
     ]
    },
    {
     "name": "stderr",
     "output_type": "stream",
     "text": [
      " 63%|██████▎   | 63/100 [00:04<00:01, 25.01it/s]"
     ]
    },
    {
     "name": "stdout",
     "output_type": "stream",
     "text": [
      "Predicted label: awake, Actual Label: wake\n",
      "Predicted label: bee, Actual Label: bee\n",
      "Predicted label: bedroom, Actual Label: bad\n",
      "Predicted label: empty, Actual Label: can\n",
      "Predicted label: flower, Actual Label: flower\n",
      "Predicted label: say, Actual Label: say\n",
      "Predicted label: callonphone, Actual Label: callonphone\n"
     ]
    },
    {
     "name": "stderr",
     "output_type": "stream",
     "text": [
      " 69%|██████▉   | 69/100 [00:04<00:01, 26.66it/s]"
     ]
    },
    {
     "name": "stdout",
     "output_type": "stream",
     "text": [
      "Predicted label: finish, Actual Label: finish\n",
      "Predicted label: bee, Actual Label: bee\n",
      "Predicted label: old, Actual Label: old\n",
      "Predicted label: backyard, Actual Label: backyard\n",
      "Predicted label: sick, Actual Label: sick\n",
      "Predicted label: look, Actual Label: look\n"
     ]
    },
    {
     "name": "stderr",
     "output_type": "stream",
     "text": [
      " 73%|███████▎  | 73/100 [00:04<00:00, 28.44it/s]"
     ]
    },
    {
     "name": "stdout",
     "output_type": "stream",
     "text": [
      "Predicted label: that, Actual Label: that\n",
      "Predicted label: eye, Actual Label: black\n",
      "Predicted label: hate, Actual Label: yourself\n",
      "Predicted label: open, Actual Label: open\n",
      "Predicted label: alligator, Actual Label: alligator\n",
      "Predicted label: wet, Actual Label: wet\n"
     ]
    },
    {
     "name": "stderr",
     "output_type": "stream",
     "text": [
      " 79%|███████▉  | 79/100 [00:04<00:00, 27.93it/s]"
     ]
    },
    {
     "name": "stdout",
     "output_type": "stream",
     "text": [
      "Predicted label: closet, Actual Label: closet\n",
      "Predicted label: moon, Actual Label: moon\n",
      "Predicted label: find, Actual Label: find\n",
      "Predicted label: pizza, Actual Label: pizza\n",
      "Predicted label: shhh, Actual Label: shhh\n",
      "Predicted label: fast, Actual Label: fast\n",
      "Predicted label: jacket, Actual Label: jacket\n"
     ]
    },
    {
     "name": "stderr",
     "output_type": "stream",
     "text": [
      " 86%|████████▌ | 86/100 [00:05<00:00, 28.95it/s]"
     ]
    },
    {
     "name": "stdout",
     "output_type": "stream",
     "text": [
      "Predicted label: scissors, Actual Label: scissors\n",
      "Predicted label: pajamas, Actual Label: now\n",
      "Predicted label: TV, Actual Label: TV\n",
      "Predicted label: awake, Actual Label: wake\n",
      "Predicted label: owl, Actual Label: man\n",
      "Predicted label: sticky, Actual Label: sticky\n",
      "Predicted label: ride, Actual Label: jump\n"
     ]
    },
    {
     "name": "stderr",
     "output_type": "stream",
     "text": [
      " 94%|█████████▍| 94/100 [00:05<00:00, 30.15it/s]"
     ]
    },
    {
     "name": "stdout",
     "output_type": "stream",
     "text": [
      "Predicted label: sleep, Actual Label: sleep\n",
      "Predicted label: sun, Actual Label: sun\n",
      "Predicted label: first, Actual Label: first\n",
      "Predicted label: yellow, Actual Label: yellow\n",
      "Predicted label: fireman, Actual Label: brother\n",
      "Predicted label: grass, Actual Label: grass\n"
     ]
    },
    {
     "name": "stderr",
     "output_type": "stream",
     "text": [
      "100%|██████████| 100/100 [00:05<00:00, 18.30it/s]"
     ]
    },
    {
     "name": "stdout",
     "output_type": "stream",
     "text": [
      "Predicted label: uncle, Actual Label: uncle\n",
      "Predicted label: flag, Actual Label: fish\n",
      "Predicted label: lamp, Actual Label: scissors\n",
      "Predicted label: carrot, Actual Label: cowboy\n",
      "Predicted label: snow, Actual Label: snow\n"
     ]
    },
    {
     "name": "stderr",
     "output_type": "stream",
     "text": [
      "\n"
     ]
    }
   ],
   "source": [
    "def sub_model():\n",
    "    model = tf.keras.models.load_model('/kaggle/working/trained_keras')\n",
    "    inputs = Input(shape=(543,3),name='inputs')\n",
    "    X = tf.where(tf.math.is_nan(inputs),tf.zeros_like(inputs),inputs)\n",
    "    \n",
    "    X = tf.math.reduce_mean(X, axis=0,keepdims=True)\n",
    "    X = model(X)\n",
    "    outputs= tf.keras.layers.Activation(activation=\"linear\",name='outputs')(X)\n",
    "    infer_model = Model(inputs, outputs)\n",
    "    infer_model.compile(loss =SparseCategoricalCrossentropy(), optimizer =Adam(), metrics=['accuracy',SparseTopKCategoricalAccuracy(10,name='sparse_top_10'),SparseTopKCategoricalAccuracy(20,name='sparse_top_20'),SparseTopKCategoricalAccuracy(50,name='sparse_top_50')])\n",
    "    infer_model.summary()\n",
    "    return infer_model\n",
    "\n",
    "tf.keras.backend.clear_session()\n",
    "infer_model= sub_model()\n",
    "try :\n",
    "    tf.saved_model.load('/kaggle/input/asl-signs-naidu/infer_model')\n",
    "    tf.saved_model.save(infer_model, '/kaggle/working/infer_model')\n",
    "except:\n",
    "    tf.saved_model.save(infer_model, '/kaggle/working/infer_model')\n",
    "\n",
    "\n",
    "# Convert the model\n",
    "converter = tf.lite.TFLiteConverter.from_saved_model('/kaggle/working/infer_model') # path to the SavedModel directory\n",
    "tflite_model = converter.convert()\n",
    "\n",
    "# Save the model.\n",
    "with open('model.tflite', 'wb') as f:\n",
    "  f.write(tflite_model)\n",
    "\n",
    "\n",
    "\n",
    "!zip submission.zip $\"model.tflite\"    \n",
    "\n",
    "interpreter = tflite.Interpreter('model.tflite')\n",
    "found_signatures = list(interpreter.get_signature_list().keys())\n",
    "prediction_fn = interpreter.get_signature_runner(\"serving_default\")\n",
    "for i in tqdm.tqdm(range(100)):\n",
    "    frames = load_relevant_data_subset(f'/kaggle/input/asl-signs/{train.iloc[i].path}')\n",
    "    output = prediction_fn(inputs=frames)\n",
    "    if i < 100:\n",
    "        sign = np.argmax(output[\"outputs\"])\n",
    "        print(f\"Predicted label: {prediction_to_sign_map[sign]}, Actual Label: {train.iloc[i].sign}\")\n"
   ]
  },
  {
   "cell_type": "code",
   "execution_count": null,
   "id": "e4d98257",
   "metadata": {
    "papermill": {
     "duration": 2.318609,
     "end_time": "2023-03-29T12:19:38.991386",
     "exception": false,
     "start_time": "2023-03-29T12:19:36.672777",
     "status": "completed"
    },
    "tags": []
   },
   "outputs": [],
   "source": []
  }
 ],
 "metadata": {
  "kernelspec": {
   "display_name": "Python 3",
   "language": "python",
   "name": "python3"
  },
  "language_info": {
   "codemirror_mode": {
    "name": "ipython",
    "version": 3
   },
   "file_extension": ".py",
   "mimetype": "text/x-python",
   "name": "python",
   "nbconvert_exporter": "python",
   "pygments_lexer": "ipython3",
   "version": "3.7.12"
  },
  "papermill": {
   "default_parameters": {},
   "duration": 4214.738175,
   "end_time": "2023-03-29T12:19:44.330226",
   "environment_variables": {},
   "exception": null,
   "input_path": "__notebook__.ipynb",
   "output_path": "__notebook__.ipynb",
   "parameters": {},
   "start_time": "2023-03-29T11:09:29.592051",
   "version": "2.4.0"
  }
 },
 "nbformat": 4,
 "nbformat_minor": 5
}
